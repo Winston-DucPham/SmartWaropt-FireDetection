{
  "nbformat": 4,
  "nbformat_minor": 0,
  "metadata": {
    "colab": {
      "name": "Execute.ipynb",
      "provenance": [],
      "collapsed_sections": [],
      "toc_visible": true
    },
    "kernelspec": {
      "name": "python3",
      "display_name": "Python 3"
    },
    "accelerator": "GPU"
  },
  "cells": [
    {
      "cell_type": "code",
      "metadata": {
        "colab": {
          "base_uri": "https://localhost:8080/"
        },
        "id": "0JFqRXuwDLOc",
        "outputId": "56466702-3b5b-4267-f368-64862006ccdb"
      },
      "source": [
        "!git clone https://github.com/Winston-DucPham/SmartWaropt-FireDetection.git\n",
        "%cd /content/SmartWaropt-FireDetection"
      ],
      "execution_count": 3,
      "outputs": [
        {
          "output_type": "stream",
          "text": [
            "fatal: destination path 'SmartWaropt-FireDetection' already exists and is not an empty directory.\n",
            "/content/SmartWaropt-FireDetection\n"
          ],
          "name": "stdout"
        }
      ]
    },
    {
      "cell_type": "code",
      "metadata": {
        "colab": {
          "base_uri": "https://localhost:8080/",
          "height": 396
        },
        "id": "S-kUeJQtDwm9",
        "outputId": "dee4650c-b42c-4e75-90a0-3f814500b110"
      },
      "source": [
        "# install dependencies as necessary\n",
        "!pip install -qr requirements.txt  # install dependencies (ignore errors)\n",
        "import torch\n",
        "from IPython.display import Image, clear_output  # to display images\n",
        "from utils.google_utils import gdrive_download  # to download models/datasets\n",
        "\n",
        "# clear_output()\n",
        "print('Setup complete. Using torch %s %s' % (torch.__version__, torch.cuda.get_device_properties(0) if torch.cuda.is_available() else 'CPU'))"
      ],
      "execution_count": 4,
      "outputs": [
        {
          "output_type": "stream",
          "text": [
            "\u001b[?25l\r\u001b[K     |▌                               | 10kB 25.2MB/s eta 0:00:01\r\u001b[K     |█                               | 20kB 32.0MB/s eta 0:00:01\r\u001b[K     |█▌                              | 30kB 33.3MB/s eta 0:00:01\r\u001b[K     |██                              | 40kB 20.9MB/s eta 0:00:01\r\u001b[K     |██▋                             | 51kB 10.1MB/s eta 0:00:01\r\u001b[K     |███                             | 61kB 9.8MB/s eta 0:00:01\r\u001b[K     |███▋                            | 71kB 10.5MB/s eta 0:00:01\r\u001b[K     |████▏                           | 81kB 11.5MB/s eta 0:00:01\r\u001b[K     |████▋                           | 92kB 11.8MB/s eta 0:00:01\r\u001b[K     |█████▏                          | 102kB 9.4MB/s eta 0:00:01\r\u001b[K     |█████▋                          | 112kB 9.4MB/s eta 0:00:01\r\u001b[K     |██████▏                         | 122kB 9.4MB/s eta 0:00:01\r\u001b[K     |██████▊                         | 133kB 9.4MB/s eta 0:00:01\r\u001b[K     |███████▏                        | 143kB 9.4MB/s eta 0:00:01\r\u001b[K     |███████▊                        | 153kB 9.4MB/s eta 0:00:01\r\u001b[K     |████████▎                       | 163kB 9.4MB/s eta 0:00:01\r\u001b[K     |████████▊                       | 174kB 9.4MB/s eta 0:00:01\r\u001b[K     |█████████▎                      | 184kB 9.4MB/s eta 0:00:01\r\u001b[K     |█████████▉                      | 194kB 9.4MB/s eta 0:00:01\r\u001b[K     |██████████▎                     | 204kB 9.4MB/s eta 0:00:01\r\u001b[K     |██████████▉                     | 215kB 9.4MB/s eta 0:00:01\r\u001b[K     |███████████▎                    | 225kB 9.4MB/s eta 0:00:01\r\u001b[K     |███████████▉                    | 235kB 9.4MB/s eta 0:00:01\r\u001b[K     |████████████▍                   | 245kB 9.4MB/s eta 0:00:01\r\u001b[K     |████████████▉                   | 256kB 9.4MB/s eta 0:00:01\r\u001b[K     |█████████████▍                  | 266kB 9.4MB/s eta 0:00:01\r\u001b[K     |██████████████                  | 276kB 9.4MB/s eta 0:00:01\r\u001b[K     |██████████████▍                 | 286kB 9.4MB/s eta 0:00:01\r\u001b[K     |███████████████                 | 296kB 9.4MB/s eta 0:00:01\r\u001b[K     |███████████████▍                | 307kB 9.4MB/s eta 0:00:01\r\u001b[K     |████████████████                | 317kB 9.4MB/s eta 0:00:01\r\u001b[K     |████████████████▌               | 327kB 9.4MB/s eta 0:00:01\r\u001b[K     |█████████████████               | 337kB 9.4MB/s eta 0:00:01\r\u001b[K     |█████████████████▌              | 348kB 9.4MB/s eta 0:00:01\r\u001b[K     |██████████████████              | 358kB 9.4MB/s eta 0:00:01\r\u001b[K     |██████████████████▌             | 368kB 9.4MB/s eta 0:00:01\r\u001b[K     |███████████████████             | 378kB 9.4MB/s eta 0:00:01\r\u001b[K     |███████████████████▋            | 389kB 9.4MB/s eta 0:00:01\r\u001b[K     |████████████████████            | 399kB 9.4MB/s eta 0:00:01\r\u001b[K     |████████████████████▋           | 409kB 9.4MB/s eta 0:00:01\r\u001b[K     |█████████████████████           | 419kB 9.4MB/s eta 0:00:01\r\u001b[K     |█████████████████████▋          | 430kB 9.4MB/s eta 0:00:01\r\u001b[K     |██████████████████████▏         | 440kB 9.4MB/s eta 0:00:01\r\u001b[K     |██████████████████████▋         | 450kB 9.4MB/s eta 0:00:01\r\u001b[K     |███████████████████████▏        | 460kB 9.4MB/s eta 0:00:01\r\u001b[K     |███████████████████████▊        | 471kB 9.4MB/s eta 0:00:01\r\u001b[K     |████████████████████████▏       | 481kB 9.4MB/s eta 0:00:01\r\u001b[K     |████████████████████████▊       | 491kB 9.4MB/s eta 0:00:01\r\u001b[K     |█████████████████████████▏      | 501kB 9.4MB/s eta 0:00:01\r\u001b[K     |█████████████████████████▊      | 512kB 9.4MB/s eta 0:00:01\r\u001b[K     |██████████████████████████▎     | 522kB 9.4MB/s eta 0:00:01\r\u001b[K     |██████████████████████████▊     | 532kB 9.4MB/s eta 0:00:01\r\u001b[K     |███████████████████████████▎    | 542kB 9.4MB/s eta 0:00:01\r\u001b[K     |███████████████████████████▉    | 552kB 9.4MB/s eta 0:00:01\r\u001b[K     |████████████████████████████▎   | 563kB 9.4MB/s eta 0:00:01\r\u001b[K     |████████████████████████████▉   | 573kB 9.4MB/s eta 0:00:01\r\u001b[K     |█████████████████████████████▍  | 583kB 9.4MB/s eta 0:00:01\r\u001b[K     |█████████████████████████████▉  | 593kB 9.4MB/s eta 0:00:01\r\u001b[K     |██████████████████████████████▍ | 604kB 9.4MB/s eta 0:00:01\r\u001b[K     |██████████████████████████████▉ | 614kB 9.4MB/s eta 0:00:01\r\u001b[K     |███████████████████████████████▍| 624kB 9.4MB/s eta 0:00:01\r\u001b[K     |████████████████████████████████| 634kB 9.4MB/s eta 0:00:01\r\u001b[K     |████████████████████████████████| 645kB 9.4MB/s \n",
            "\u001b[?25h"
          ],
          "name": "stdout"
        },
        {
          "output_type": "error",
          "ename": "ModuleNotFoundError",
          "evalue": "ignored",
          "traceback": [
            "\u001b[0;31m---------------------------------------------------------------------------\u001b[0m",
            "\u001b[0;31mModuleNotFoundError\u001b[0m                       Traceback (most recent call last)",
            "\u001b[0;32m<ipython-input-4-d9ae8b9a3cb3>\u001b[0m in \u001b[0;36m<module>\u001b[0;34m()\u001b[0m\n\u001b[1;32m      4\u001b[0m \u001b[0;34m\u001b[0m\u001b[0m\n\u001b[1;32m      5\u001b[0m \u001b[0;32mfrom\u001b[0m \u001b[0mIPython\u001b[0m\u001b[0;34m.\u001b[0m\u001b[0mdisplay\u001b[0m \u001b[0;32mimport\u001b[0m \u001b[0mImage\u001b[0m\u001b[0;34m,\u001b[0m \u001b[0mclear_output\u001b[0m  \u001b[0;31m# to display images\u001b[0m\u001b[0;34m\u001b[0m\u001b[0;34m\u001b[0m\u001b[0m\n\u001b[0;32m----> 6\u001b[0;31m \u001b[0;32mfrom\u001b[0m \u001b[0mutils\u001b[0m\u001b[0;34m.\u001b[0m\u001b[0mgoogle_utils\u001b[0m \u001b[0;32mimport\u001b[0m \u001b[0mgdrive_download\u001b[0m  \u001b[0;31m# to download models/datasets\u001b[0m\u001b[0;34m\u001b[0m\u001b[0;34m\u001b[0m\u001b[0m\n\u001b[0m\u001b[1;32m      7\u001b[0m \u001b[0;34m\u001b[0m\u001b[0m\n\u001b[1;32m      8\u001b[0m \u001b[0;31m# clear_output()\u001b[0m\u001b[0;34m\u001b[0m\u001b[0;34m\u001b[0m\u001b[0;34m\u001b[0m\u001b[0m\n",
            "\u001b[0;31mModuleNotFoundError\u001b[0m: No module named 'utils'",
            "",
            "\u001b[0;31m---------------------------------------------------------------------------\u001b[0;32m\nNOTE: If your import is failing due to a missing package, you can\nmanually install dependencies using either !pip or !apt.\n\nTo view examples of installing some common dependencies, click the\n\"Open Examples\" button below.\n\u001b[0;31m---------------------------------------------------------------------------\u001b[0m\n"
          ]
        }
      ]
    },
    {
      "cell_type": "code",
      "metadata": {
        "id": "kZ5yrCWVD3rU"
      },
      "source": [
        "!python /content/drive/MyDrive/yolov5/detect.py --weight /content/drive/MyDrive/yolov5/runs/train/yolov5s_results/weights/last.pt --source /content/drive/MyDrive/AP_21081489685640.jpg"
      ],
      "execution_count": null,
      "outputs": []
    }
  ]
}