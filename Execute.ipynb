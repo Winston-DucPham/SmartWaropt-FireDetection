{
  "nbformat": 4,
  "nbformat_minor": 0,
  "metadata": {
    "colab": {
      "name": "Execute.ipynb",
      "provenance": [],
      "collapsed_sections": [],
      "toc_visible": true
    },
    "kernelspec": {
      "name": "python3",
      "display_name": "Python 3"
    },
    "accelerator": "GPU"
  },
  "cells": [
    {
      "cell_type": "code",
      "metadata": {
        "colab": {
          "base_uri": "https://localhost:8080/"
        },
        "id": "0JFqRXuwDLOc",
        "outputId": "fa5ce097-9101-4f4c-93f9-61ae5b6fa26a"
      },
      "source": [
        "!git clone https://github.com/Winston-DucPham/SmartWaropt-FireDetection.git\n",
        "%cd /content/SmartWaropt-FireDetection"
      ],
      "execution_count": 1,
      "outputs": [
        {
          "output_type": "stream",
          "text": [
            "Cloning into 'SmartWaropt-FireDetection'...\n",
            "remote: Enumerating objects: 347, done.\u001b[K\n",
            "remote: Counting objects: 100% (347/347), done.\u001b[K\n",
            "remote: Compressing objects: 100% (164/164), done.\u001b[K\n",
            "remote: Total 347 (delta 174), reused 342 (delta 172), pack-reused 0\u001b[K\n",
            "Receiving objects: 100% (347/347), 99.02 MiB | 40.71 MiB/s, done.\n",
            "Resolving deltas: 100% (174/174), done.\n",
            "/content/SmartWaropt-FireDetection\n"
          ],
          "name": "stdout"
        }
      ]
    },
    {
      "cell_type": "code",
      "metadata": {
        "colab": {
          "base_uri": "https://localhost:8080/"
        },
        "id": "S-kUeJQtDwm9",
        "outputId": "43042dc1-c28e-4544-9820-b40f39fe412a"
      },
      "source": [
        "# install dependencies as necessary\n",
        "!pip install -qr requirements.txt  # install dependencies (ignore errors)\n",
        "from google.colab.patches import cv2_imshow\n",
        "import cv2\n",
        "import torch\n",
        "from IPython.display import Image, clear_output  # to display images\n",
        "from utils.google_utils import gdrive_download  # to download models/datasets\n",
        "\n",
        "# clear_output()\n",
        "print('Setup complete. Using torch %s %s' % (torch.__version__, torch.cuda.get_device_properties(0) if torch.cuda.is_available() else 'CPU'))"
      ],
      "execution_count": 2,
      "outputs": [
        {
          "output_type": "stream",
          "text": [
            "\u001b[?25l\r\u001b[K     |▌                               | 10kB 26.6MB/s eta 0:00:01\r\u001b[K     |█                               | 20kB 32.8MB/s eta 0:00:01\r\u001b[K     |█▌                              | 30kB 34.4MB/s eta 0:00:01\r\u001b[K     |██                              | 40kB 37.3MB/s eta 0:00:01\r\u001b[K     |██▋                             | 51kB 39.6MB/s eta 0:00:01\r\u001b[K     |███                             | 61kB 40.6MB/s eta 0:00:01\r\u001b[K     |███▋                            | 71kB 38.9MB/s eta 0:00:01\r\u001b[K     |████▏                           | 81kB 39.8MB/s eta 0:00:01\r\u001b[K     |████▋                           | 92kB 39.5MB/s eta 0:00:01\r\u001b[K     |█████▏                          | 102kB 38.4MB/s eta 0:00:01\r\u001b[K     |█████▋                          | 112kB 38.4MB/s eta 0:00:01\r\u001b[K     |██████▏                         | 122kB 38.4MB/s eta 0:00:01\r\u001b[K     |██████▊                         | 133kB 38.4MB/s eta 0:00:01\r\u001b[K     |███████▏                        | 143kB 38.4MB/s eta 0:00:01\r\u001b[K     |███████▊                        | 153kB 38.4MB/s eta 0:00:01\r\u001b[K     |████████▎                       | 163kB 38.4MB/s eta 0:00:01\r\u001b[K     |████████▊                       | 174kB 38.4MB/s eta 0:00:01\r\u001b[K     |█████████▎                      | 184kB 38.4MB/s eta 0:00:01\r\u001b[K     |█████████▉                      | 194kB 38.4MB/s eta 0:00:01\r\u001b[K     |██████████▎                     | 204kB 38.4MB/s eta 0:00:01\r\u001b[K     |██████████▉                     | 215kB 38.4MB/s eta 0:00:01\r\u001b[K     |███████████▎                    | 225kB 38.4MB/s eta 0:00:01\r\u001b[K     |███████████▉                    | 235kB 38.4MB/s eta 0:00:01\r\u001b[K     |████████████▍                   | 245kB 38.4MB/s eta 0:00:01\r\u001b[K     |████████████▉                   | 256kB 38.4MB/s eta 0:00:01\r\u001b[K     |█████████████▍                  | 266kB 38.4MB/s eta 0:00:01\r\u001b[K     |██████████████                  | 276kB 38.4MB/s eta 0:00:01\r\u001b[K     |██████████████▍                 | 286kB 38.4MB/s eta 0:00:01\r\u001b[K     |███████████████                 | 296kB 38.4MB/s eta 0:00:01\r\u001b[K     |███████████████▍                | 307kB 38.4MB/s eta 0:00:01\r\u001b[K     |████████████████                | 317kB 38.4MB/s eta 0:00:01\r\u001b[K     |████████████████▌               | 327kB 38.4MB/s eta 0:00:01\r\u001b[K     |█████████████████               | 337kB 38.4MB/s eta 0:00:01\r\u001b[K     |█████████████████▌              | 348kB 38.4MB/s eta 0:00:01\r\u001b[K     |██████████████████              | 358kB 38.4MB/s eta 0:00:01\r\u001b[K     |██████████████████▌             | 368kB 38.4MB/s eta 0:00:01\r\u001b[K     |███████████████████             | 378kB 38.4MB/s eta 0:00:01\r\u001b[K     |███████████████████▋            | 389kB 38.4MB/s eta 0:00:01\r\u001b[K     |████████████████████            | 399kB 38.4MB/s eta 0:00:01\r\u001b[K     |████████████████████▋           | 409kB 38.4MB/s eta 0:00:01\r\u001b[K     |█████████████████████           | 419kB 38.4MB/s eta 0:00:01\r\u001b[K     |█████████████████████▋          | 430kB 38.4MB/s eta 0:00:01\r\u001b[K     |██████████████████████▏         | 440kB 38.4MB/s eta 0:00:01\r\u001b[K     |██████████████████████▋         | 450kB 38.4MB/s eta 0:00:01\r\u001b[K     |███████████████████████▏        | 460kB 38.4MB/s eta 0:00:01\r\u001b[K     |███████████████████████▊        | 471kB 38.4MB/s eta 0:00:01\r\u001b[K     |████████████████████████▏       | 481kB 38.4MB/s eta 0:00:01\r\u001b[K     |████████████████████████▊       | 491kB 38.4MB/s eta 0:00:01\r\u001b[K     |█████████████████████████▏      | 501kB 38.4MB/s eta 0:00:01\r\u001b[K     |█████████████████████████▊      | 512kB 38.4MB/s eta 0:00:01\r\u001b[K     |██████████████████████████▎     | 522kB 38.4MB/s eta 0:00:01\r\u001b[K     |██████████████████████████▊     | 532kB 38.4MB/s eta 0:00:01\r\u001b[K     |███████████████████████████▎    | 542kB 38.4MB/s eta 0:00:01\r\u001b[K     |███████████████████████████▉    | 552kB 38.4MB/s eta 0:00:01\r\u001b[K     |████████████████████████████▎   | 563kB 38.4MB/s eta 0:00:01\r\u001b[K     |████████████████████████████▉   | 573kB 38.4MB/s eta 0:00:01\r\u001b[K     |█████████████████████████████▍  | 583kB 38.4MB/s eta 0:00:01\r\u001b[K     |█████████████████████████████▉  | 593kB 38.4MB/s eta 0:00:01\r\u001b[K     |██████████████████████████████▍ | 604kB 38.4MB/s eta 0:00:01\r\u001b[K     |██████████████████████████████▉ | 614kB 38.4MB/s eta 0:00:01\r\u001b[K     |███████████████████████████████▍| 624kB 38.4MB/s eta 0:00:01\r\u001b[K     |████████████████████████████████| 634kB 38.4MB/s eta 0:00:01\r\u001b[K     |████████████████████████████████| 645kB 38.4MB/s \n",
            "\u001b[?25hSetup complete. Using torch 1.8.1+cu101 _CudaDeviceProperties(name='Tesla T4', major=7, minor=5, total_memory=15109MB, multi_processor_count=40)\n"
          ],
          "name": "stdout"
        }
      ]
    },
    {
      "cell_type": "code",
      "metadata": {
        "colab": {
          "base_uri": "https://localhost:8080/"
        },
        "id": "kZ5yrCWVD3rU",
        "outputId": "ae3ebafe-8fca-4909-cb93-ac34d5e4a031"
      },
      "source": [
        "#Detect Videos or Images\n",
        "!python detect.py --weight /content/SmartWaropt-FireDetection/runs/train/yolov5s_results/weights/last.pt --source /content/SmartWaropt-FireDetection/Input/AP_21081489685640.jpg"
      ],
      "execution_count": null,
      "outputs": [
        {
          "output_type": "stream",
          "text": [
            "Namespace(agnostic_nms=False, augment=False, classes=None, conf_thres=0.25, device='', exist_ok=False, hide_conf=False, hide_labels=False, img_size=640, iou_thres=0.45, line_thickness=3, name='exp', nosave=False, project='runs/detect', save_conf=False, save_crop=False, save_txt=False, source='/content/SmartWaropt-FireDetection/AP_21081489685640.jpg', update=False, view_img=False, weights=['/content/SmartWaropt-FireDetection/runs/train/yolov5s_results/weights/last.pt'])\n",
            "YOLOv5 🚀 665138e torch 1.8.1+cu101 CUDA:0 (Tesla T4, 15109.75MB)\n",
            "\n"
          ],
          "name": "stdout"
        }
      ]
    },
    {
      "cell_type": "code",
      "metadata": {
        "id": "yTOezXXBLHJA"
      },
      "source": [
        "Result = \"/content/SmartWaropt-FireDetection/runs/detect/exp/AP_21081489685640.jpg\"\n",
        "img = cv2.imread(Result)\n",
        "cv2_imshow(img)"
      ],
      "execution_count": null,
      "outputs": []
    }
  ]
}