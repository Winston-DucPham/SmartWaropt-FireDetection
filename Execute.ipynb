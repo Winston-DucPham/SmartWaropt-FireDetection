{
  "nbformat": 4,
  "nbformat_minor": 0,
  "metadata": {
    "colab": {
      "name": "Execute.ipynb",
      "provenance": [],
      "collapsed_sections": [],
      "toc_visible": true
    },
    "kernelspec": {
      "name": "python3",
      "display_name": "Python 3"
    },
    "accelerator": "GPU"
  },
  "cells": [
    {
      "cell_type": "code",
      "metadata": {
        "colab": {
          "base_uri": "https://localhost:8080/"
        },
        "id": "0JFqRXuwDLOc",
        "outputId": "4831ec83-7cd0-4aff-ddd2-2f0c3752c164"
      },
      "source": [
        "!git clone https://github.com/Winston-DucPham/SmartWaropt-FireDetection.git\n",
        "%cd /content/SmartWaropt-FireDetection"
      ],
      "execution_count": 1,
      "outputs": [
        {
          "output_type": "stream",
          "text": [
            "Cloning into 'SmartWaropt-FireDetection'...\n",
            "remote: Enumerating objects: 329, done.\u001b[K\n",
            "remote: Counting objects: 100% (329/329), done.\u001b[K\n",
            "remote: Compressing objects: 100% (150/150), done.\u001b[K\n",
            "remote: Total 329 (delta 168), reused 326 (delta 168), pack-reused 0\u001b[K\n",
            "Receiving objects: 100% (329/329), 32.85 MiB | 31.00 MiB/s, done.\n",
            "Resolving deltas: 100% (168/168), done.\n",
            "/content/SmartWaropt-FireDetection\n"
          ],
          "name": "stdout"
        }
      ]
    },
    {
      "cell_type": "code",
      "metadata": {
        "colab": {
          "base_uri": "https://localhost:8080/"
        },
        "id": "S-kUeJQtDwm9",
        "outputId": "b9460a86-607f-4940-a77e-a595032df4cb"
      },
      "source": [
        "# install dependencies as necessary\n",
        "!pip install -qr requirements.txt  # install dependencies (ignore errors)\n",
        "import torch\n",
        "from IPython.display import Image, clear_output  # to display images\n",
        "from utils.google_utils import gdrive_download  # to download models/datasets\n",
        "\n",
        "# clear_output()\n",
        "print('Setup complete. Using torch %s %s' % (torch.__version__, torch.cuda.get_device_properties(0) if torch.cuda.is_available() else 'CPU'))"
      ],
      "execution_count": 2,
      "outputs": [
        {
          "output_type": "stream",
          "text": [
            "\u001b[?25l\r\u001b[K     |▌                               | 10kB 21.8MB/s eta 0:00:01\r\u001b[K     |█                               | 20kB 15.9MB/s eta 0:00:01\r\u001b[K     |█▌                              | 30kB 9.6MB/s eta 0:00:01\r\u001b[K     |██                              | 40kB 8.0MB/s eta 0:00:01\r\u001b[K     |██▋                             | 51kB 5.3MB/s eta 0:00:01\r\u001b[K     |███                             | 61kB 6.2MB/s eta 0:00:01\r\u001b[K     |███▋                            | 71kB 6.2MB/s eta 0:00:01\r\u001b[K     |████▏                           | 81kB 6.1MB/s eta 0:00:01\r\u001b[K     |████▋                           | 92kB 6.0MB/s eta 0:00:01\r\u001b[K     |█████▏                          | 102kB 5.2MB/s eta 0:00:01\r\u001b[K     |█████▋                          | 112kB 5.2MB/s eta 0:00:01\r\u001b[K     |██████▏                         | 122kB 5.2MB/s eta 0:00:01\r\u001b[K     |██████▊                         | 133kB 5.2MB/s eta 0:00:01\r\u001b[K     |███████▏                        | 143kB 5.2MB/s eta 0:00:01\r\u001b[K     |███████▊                        | 153kB 5.2MB/s eta 0:00:01\r\u001b[K     |████████▎                       | 163kB 5.2MB/s eta 0:00:01\r\u001b[K     |████████▊                       | 174kB 5.2MB/s eta 0:00:01\r\u001b[K     |█████████▎                      | 184kB 5.2MB/s eta 0:00:01\r\u001b[K     |█████████▉                      | 194kB 5.2MB/s eta 0:00:01\r\u001b[K     |██████████▎                     | 204kB 5.2MB/s eta 0:00:01\r\u001b[K     |██████████▉                     | 215kB 5.2MB/s eta 0:00:01\r\u001b[K     |███████████▎                    | 225kB 5.2MB/s eta 0:00:01\r\u001b[K     |███████████▉                    | 235kB 5.2MB/s eta 0:00:01\r\u001b[K     |████████████▍                   | 245kB 5.2MB/s eta 0:00:01\r\u001b[K     |████████████▉                   | 256kB 5.2MB/s eta 0:00:01\r\u001b[K     |█████████████▍                  | 266kB 5.2MB/s eta 0:00:01\r\u001b[K     |██████████████                  | 276kB 5.2MB/s eta 0:00:01\r\u001b[K     |██████████████▍                 | 286kB 5.2MB/s eta 0:00:01\r\u001b[K     |███████████████                 | 296kB 5.2MB/s eta 0:00:01\r\u001b[K     |███████████████▍                | 307kB 5.2MB/s eta 0:00:01\r\u001b[K     |████████████████                | 317kB 5.2MB/s eta 0:00:01\r\u001b[K     |████████████████▌               | 327kB 5.2MB/s eta 0:00:01\r\u001b[K     |█████████████████               | 337kB 5.2MB/s eta 0:00:01\r\u001b[K     |█████████████████▌              | 348kB 5.2MB/s eta 0:00:01\r\u001b[K     |██████████████████              | 358kB 5.2MB/s eta 0:00:01\r\u001b[K     |██████████████████▌             | 368kB 5.2MB/s eta 0:00:01\r\u001b[K     |███████████████████             | 378kB 5.2MB/s eta 0:00:01\r\u001b[K     |███████████████████▋            | 389kB 5.2MB/s eta 0:00:01\r\u001b[K     |████████████████████            | 399kB 5.2MB/s eta 0:00:01\r\u001b[K     |████████████████████▋           | 409kB 5.2MB/s eta 0:00:01\r\u001b[K     |█████████████████████           | 419kB 5.2MB/s eta 0:00:01\r\u001b[K     |█████████████████████▋          | 430kB 5.2MB/s eta 0:00:01\r\u001b[K     |██████████████████████▏         | 440kB 5.2MB/s eta 0:00:01\r\u001b[K     |██████████████████████▋         | 450kB 5.2MB/s eta 0:00:01\r\u001b[K     |███████████████████████▏        | 460kB 5.2MB/s eta 0:00:01\r\u001b[K     |███████████████████████▊        | 471kB 5.2MB/s eta 0:00:01\r\u001b[K     |████████████████████████▏       | 481kB 5.2MB/s eta 0:00:01\r\u001b[K     |████████████████████████▊       | 491kB 5.2MB/s eta 0:00:01\r\u001b[K     |█████████████████████████▏      | 501kB 5.2MB/s eta 0:00:01\r\u001b[K     |█████████████████████████▊      | 512kB 5.2MB/s eta 0:00:01\r\u001b[K     |██████████████████████████▎     | 522kB 5.2MB/s eta 0:00:01\r\u001b[K     |██████████████████████████▊     | 532kB 5.2MB/s eta 0:00:01\r\u001b[K     |███████████████████████████▎    | 542kB 5.2MB/s eta 0:00:01\r\u001b[K     |███████████████████████████▉    | 552kB 5.2MB/s eta 0:00:01\r\u001b[K     |████████████████████████████▎   | 563kB 5.2MB/s eta 0:00:01\r\u001b[K     |████████████████████████████▉   | 573kB 5.2MB/s eta 0:00:01\r\u001b[K     |█████████████████████████████▍  | 583kB 5.2MB/s eta 0:00:01\r\u001b[K     |█████████████████████████████▉  | 593kB 5.2MB/s eta 0:00:01\r\u001b[K     |██████████████████████████████▍ | 604kB 5.2MB/s eta 0:00:01\r\u001b[K     |██████████████████████████████▉ | 614kB 5.2MB/s eta 0:00:01\r\u001b[K     |███████████████████████████████▍| 624kB 5.2MB/s eta 0:00:01\r\u001b[K     |████████████████████████████████| 634kB 5.2MB/s eta 0:00:01\r\u001b[K     |████████████████████████████████| 645kB 5.2MB/s \n",
            "\u001b[?25hSetup complete. Using torch 1.8.1+cu101 _CudaDeviceProperties(name='Tesla P4', major=6, minor=1, total_memory=7611MB, multi_processor_count=20)\n"
          ],
          "name": "stdout"
        }
      ]
    },
    {
      "cell_type": "code",
      "metadata": {
        "colab": {
          "base_uri": "https://localhost:8080/"
        },
        "id": "kZ5yrCWVD3rU",
        "outputId": "df3c6164-17bf-46b0-a4fe-bcd0b7ca6d3c"
      },
      "source": [
        "!python detect.py --weight /content/SmartWaropt-FireDetection/runs/train/yolov5s_results/weights/last.pt --source /content/SmartWaropt-FireDetection/AP_21081489685640.jpg"
      ],
      "execution_count": 3,
      "outputs": [
        {
          "output_type": "stream",
          "text": [
            "Namespace(agnostic_nms=False, augment=False, classes=None, conf_thres=0.25, device='', exist_ok=False, hide_conf=False, hide_labels=False, img_size=640, iou_thres=0.45, line_thickness=3, name='exp', nosave=False, project='runs/detect', save_conf=False, save_crop=False, save_txt=False, source='/content/SmartWaropt-FireDetection/AP_21081489685640.jpg', update=False, view_img=False, weights=['/content/SmartWaropt-FireDetection/runs/train/yolov5s_results/weights/last.pt'])\n",
            "YOLOv5 🚀 d6f8656 torch 1.8.1+cu101 CUDA:0 (Tesla P4, 7611.9375MB)\n",
            "\n",
            "Fusing layers... \n",
            "Model Summary: 232 layers, 7246518 parameters, 0 gradients, 16.8 GFLOPS\n",
            "image 1/1 /content/SmartWaropt-FireDetection/AP_21081489685640.jpg: 352x640 3 fires, Done. (0.052s)\n",
            "Results saved to runs/detect/exp\n",
            "Done. (0.195s)\n"
          ],
          "name": "stdout"
        }
      ]
    }
  ]
}